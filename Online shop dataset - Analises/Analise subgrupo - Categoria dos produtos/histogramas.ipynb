{
 "cells": [
  {
   "cell_type": "markdown",
   "metadata": {},
   "source": [
    "# <center> Histogramas </center>"
   ]
  },
  {
   "cell_type": "markdown",
   "metadata": {},
   "source": [
    "### Importes"
   ]
  },
  {
   "cell_type": "code",
   "execution_count": null,
   "metadata": {},
   "outputs": [],
   "source": [
    "import pandas as pd\n",
    "import seaborn as sns\n",
    "import matplotlib.pyplot as plt \n",
    "import plotly.express as px"
   ]
  },
  {
   "cell_type": "markdown",
   "metadata": {},
   "source": [
    "### Tirando os nullos da base de dados"
   ]
  },
  {
   "cell_type": "code",
   "execution_count": null,
   "metadata": {},
   "outputs": [],
   "source": [
    "shopdataset_comNull = pd.read_excel('./basededados.xlsx')\n",
    "# Removendo os valores null\n",
    "shopdataset = shopdataset_comNull.dropna()\n"
   ]
  },
  {
   "cell_type": "markdown",
   "metadata": {},
   "source": [
    "### Bases"
   ]
  },
  {
   "cell_type": "code",
   "execution_count": null,
   "metadata": {},
   "outputs": [],
   "source": [
    "# Verificando a quantidade de categorias dos produtos\n",
    "arrayCategorias = shopdataset.Product_Category.unique()\n",
    "print(len(arrayCategorias))\n",
    "print(arrayCategorias)"
   ]
  },
  {
   "cell_type": "code",
   "execution_count": null,
   "metadata": {},
   "outputs": [],
   "source": [
    "categorias1 = shopdataset.query(\"Product_Category == 'Office' or \"+\n",
    "                                            \"Product_Category == 'Apparel' or Product_Category == 'Bags' or \"+\n",
    "                                            \"Product_Category == 'Drinkware' or Product_Category == 'Lifestyle' or \"+\n",
    "                                            \"Product_Category == 'Waze' or Product_Category == 'Headgear'\")\n",
    "\n",
    "\n",
    "categorias2 = shopdataset.query(\"Product_Category == 'Notebooks & Journals' or Product_Category ==        'Nest-Canada' or \"+\n",
    "                                            \"Product_Category == 'Bottles' or Product_Category == 'Gift Cards' or \"+\n",
    "                                            \"Product_Category == 'Housewares' or Product_Category == 'Android' or \"+\n",
    "                                            \"Product_Category == 'Nest' or Product_Category == 'Accessories'\")"
   ]
  },
  {
   "cell_type": "code",
   "execution_count": null,
   "metadata": {},
   "outputs": [],
   "source": [
    "# Verificando a quantidade de categorias dos produtos\n",
    "arrayCategorias = shopdataset.Product_Category.unique()\n",
    "print(len(arrayCategorias))\n",
    "print(arrayCategorias)\n"
   ]
  },
  {
   "cell_type": "code",
   "execution_count": null,
   "metadata": {},
   "outputs": [],
   "source": [
    "categorias_F_part1 = shopdataset.query(\"Gender == 'F' and Product_Category == 'Nest-USA' or Product_Category == 'Office' or \"+\n",
    "                                            \"Product_Category == 'Apparel' or Product_Category == 'Bags' or \"+\n",
    "                                            \"Product_Category == 'Drinkware' or Product_Category == 'Lifestyle' or \"+\n",
    "                                            \"Product_Category == 'Waze' or Product_Category == 'Headgear'\")\n",
    "\n",
    "\n",
    "categorias_F_part2 = shopdataset.query(\"Gender == 'F' and  Product_Category == 'Notebooks & Journals' or Product_Category ==        'Nest-Canada' or \"+\n",
    "                                            \"Product_Category == 'Bottles' or Product_Category == 'Gift Cards' or \"+\n",
    "                                            \"Product_Category == 'Housewares' or Product_Category == 'Android' or \"+\n",
    "                                            \"Product_Category == 'Nest' or Product_Category == 'Accessories'\")"
   ]
  },
  {
   "cell_type": "code",
   "execution_count": null,
   "metadata": {},
   "outputs": [],
   "source": [
    "categorias_M_part1 = shopdataset.query(\"Gender == 'M' and Product_Category == 'Nest-USA' or Product_Category == 'Office' or \"+\n",
    "                                            \"Product_Category == 'Apparel' or Product_Category == 'Bags' or \"+\n",
    "                                            \"Product_Category == 'Drinkware' or Product_Category == 'Lifestyle' or \"+\n",
    "                                            \"Product_Category == 'Waze' or Product_Category == 'Headgear'\")\n",
    "\n",
    "categorias_M_part2 = shopdataset.query(\"Gender == 'F' and  Product_Category == 'Notebooks & Journals' or Product_Category ==        'Nest-Canada' or \"+\n",
    "                                            \"Product_Category == 'Bottles' or Product_Category == 'Gift Cards' or \"+\n",
    "                                            \"Product_Category == 'Housewares' or Product_Category == 'Android' or \"+\n",
    "                                            \"Product_Category == 'Nest' or Product_Category == 'Accessories'\")"
   ]
  },
  {
   "cell_type": "code",
   "execution_count": null,
   "metadata": {},
   "outputs": [],
   "source": [
    "categorias_por_mes_semestre1_part1 = shopdataset.query(\"(Month == 1 or Month == 2 or Month == 3 or Month ==4 or Month == 5 or Month == 6)and Product_Category == 'Nest-USA' or Product_Category == 'Office' or \"+\n",
    "                                            \"Product_Category == 'Apparel' or Product_Category == 'Bags' or \"+\n",
    "                                            \"Product_Category == 'Drinkware' or Product_Category == 'Lifestyle' or \"+\n",
    "                                            \"Product_Category == 'Waze' or Product_Category == 'Headgear'\")\n",
    "categorias_por_mes_semestre1_part2 = shopdataset.query(\"(Month == 1 or Month == 2 or Month == 3 or Month ==4 or Month == 5 or Month == 6)and  Product_Category == 'Notebooks & Journals' or Product_Category ==        'Nest-Canada' or \"+\n",
    "                                            \"Product_Category == 'Bottles' or Product_Category == 'Gift Cards' or \"+\n",
    "                                            \"Product_Category == 'Housewares' or Product_Category == 'Android' or \"+\n",
    "                                            \"Product_Category == 'Nest' or Product_Category == 'Accessories'\")\n",
    "\n",
    "categorias_por_mes_semestre2_part1 = shopdataset.query(\"(Month == 7 or Month == 8 or Month == 9 or Month ==10 or Month == 11 or Month == 12)and Product_Category == 'Nest-USA' or Product_Category == 'Office' or \"+\n",
    "                                            \"Product_Category == 'Apparel' or Product_Category == 'Bags' or \"+\n",
    "                                            \"Product_Category == 'Drinkware' or Product_Category == 'Lifestyle' or \"+\n",
    "                                            \"Product_Category == 'Waze' or Product_Category == 'Headgear'\")\n",
    "categorias_por_mes_semestre2_part2 = shopdataset.query(\"(Month == 7 or Month == 8 or Month == 9 or Month ==10 or Month == 11 or Month == 12)and  Product_Category == 'Notebooks & Journals' or Product_Category ==        'Nest-Canada' or \"+\n",
    "                                            \"Product_Category == 'Bottles' or Product_Category == 'Gift Cards' or \"+\n",
    "                                            \"Product_Category == 'Housewares' or Product_Category == 'Android' or \"+\n",
    "                                            \"Product_Category == 'Nest' or Product_Category == 'Accessories'\")"
   ]
  },
  {
   "cell_type": "markdown",
   "metadata": {},
   "source": [
    "### Histograma geral das categorias - media de preço"
   ]
  },
  {
   "cell_type": "code",
   "execution_count": null,
   "metadata": {},
   "outputs": [],
   "source": [
    "g = sns.FacetGrid(categorias1,col=\"Product_Category\",height=3,col_wrap=5)\n",
    "g.map_dataframe(sns.histplot,x=\"Avg_Price\")"
   ]
  },
  {
   "cell_type": "code",
   "execution_count": null,
   "metadata": {},
   "outputs": [],
   "source": [
    "sns.histplot(categorias1,x='Avg_Price', hue='Product_Category',multiple=\"stack\")\n",
    "plt.ylabel(\"Contagem\")\n",
    "plt.xlabel(\"Média de preço\")\n",
    "plt.title(\"Histograma da média de preço das categorias part.1\")\n",
    "plt.show()"
   ]
  },
  {
   "cell_type": "code",
   "execution_count": null,
   "metadata": {},
   "outputs": [],
   "source": [
    "g = sns.FacetGrid(categorias2,col=\"Product_Category\",height=3,col_wrap=5)\n",
    "g.map_dataframe(sns.histplot,x=\"Avg_Price\")"
   ]
  },
  {
   "cell_type": "code",
   "execution_count": null,
   "metadata": {},
   "outputs": [],
   "source": [
    "sns.histplot(categorias2,x='Avg_Price', hue='Product_Category',multiple=\"stack\")\n",
    "plt.ylabel(\"Contagem\")\n",
    "plt.xlabel(\"Média de preço\")\n",
    "plt.title(\"Histograma da média de preço das categorias part.2\")\n",
    "plt.show()"
   ]
  },
  {
   "cell_type": "markdown",
   "metadata": {},
   "source": [
    "### Histograma geral das categorias - percentual de desconto"
   ]
  },
  {
   "cell_type": "code",
   "execution_count": null,
   "metadata": {},
   "outputs": [],
   "source": [
    "g = sns.FacetGrid(categorias1,col=\"Product_Category\",height=3,col_wrap=5)\n",
    "g.map_dataframe(sns.histplot,x=\"Discount_pct\")"
   ]
  },
  {
   "cell_type": "code",
   "execution_count": null,
   "metadata": {},
   "outputs": [],
   "source": [
    "sns.histplot(categorias1,x='Discount_pct', hue='Product_Category',multiple=\"stack\")\n",
    "plt.ylabel(\"Contagem\")\n",
    "plt.xlabel(\"Percentual de desconto\")\n",
    "plt.title(\"Histograma do percentual de desconto das categorias part.1\")\n",
    "plt.show()"
   ]
  },
  {
   "cell_type": "code",
   "execution_count": null,
   "metadata": {},
   "outputs": [],
   "source": [
    "g = sns.FacetGrid(categorias2,col=\"Product_Category\",height=3,col_wrap=5)\n",
    "g.map_dataframe(sns.histplot,x=\"Discount_pct\")"
   ]
  },
  {
   "cell_type": "code",
   "execution_count": null,
   "metadata": {},
   "outputs": [],
   "source": [
    "sns.histplot(categorias2,x='Discount_pct', hue='Product_Category',multiple=\"stack\")\n",
    "plt.ylabel(\"Contagem\")\n",
    "plt.xlabel(\"Percentual de desconto\")\n",
    "plt.title(\"Histograma do percentual de desconto das categorias part.2\")\n",
    "plt.show()"
   ]
  },
  {
   "cell_type": "markdown",
   "metadata": {},
   "source": [
    "### Histograma geral das categorias - gasto online"
   ]
  },
  {
   "cell_type": "code",
   "execution_count": null,
   "metadata": {},
   "outputs": [],
   "source": [
    "g = sns.FacetGrid(categorias1,col=\"Product_Category\",height=3,col_wrap=5)\n",
    "g.map_dataframe(sns.histplot,x=\"Online_Spend\")"
   ]
  },
  {
   "cell_type": "code",
   "execution_count": null,
   "metadata": {},
   "outputs": [],
   "source": [
    "sns.histplot(categorias1,x='Online_Spend', hue='Product_Category',multiple=\"stack\")\n",
    "plt.ylabel(\"Contagem\")\n",
    "plt.xlabel(\"Gasto online\")\n",
    "plt.title(\"Histograma do gasto online das categorias part.1\")\n",
    "plt.show()"
   ]
  },
  {
   "cell_type": "code",
   "execution_count": null,
   "metadata": {},
   "outputs": [],
   "source": [
    "g = sns.FacetGrid(categorias2,col=\"Product_Category\",height=3,col_wrap=5)\n",
    "g.map_dataframe(sns.histplot,x=\"Online_Spend\")"
   ]
  },
  {
   "cell_type": "code",
   "execution_count": null,
   "metadata": {},
   "outputs": [],
   "source": [
    "sns.histplot(categorias2,x='Online_Spend', hue='Product_Category',multiple=\"stack\")\n",
    "plt.ylabel(\"Contagem\")\n",
    "plt.xlabel(\"Gasto online\")\n",
    "plt.title(\"Histograma do gasto online das categorias part.2\")\n",
    "plt.show()"
   ]
  },
  {
   "cell_type": "markdown",
   "metadata": {},
   "source": [
    "### Histograma geral das categorias - gasto offline"
   ]
  },
  {
   "cell_type": "code",
   "execution_count": null,
   "metadata": {},
   "outputs": [],
   "source": [
    "g = sns.FacetGrid(categorias1,col=\"Product_Category\",height=3,col_wrap=5)\n",
    "g.map_dataframe(sns.histplot,x=\"Offline_Spend\")"
   ]
  },
  {
   "cell_type": "code",
   "execution_count": null,
   "metadata": {},
   "outputs": [],
   "source": [
    "sns.histplot(categorias1,x='Offline_Spend', hue='Product_Category',multiple=\"stack\")\n",
    "plt.ylabel(\"Contagem\")\n",
    "plt.xlabel(\"Gasto offline\")\n",
    "plt.title(\"Histograma do gasto offline das categorias part.1\")\n",
    "plt.show()"
   ]
  },
  {
   "cell_type": "code",
   "execution_count": null,
   "metadata": {},
   "outputs": [],
   "source": [
    "g = sns.FacetGrid(categorias2,col=\"Product_Category\",height=3,col_wrap=5)\n",
    "g.map_dataframe(sns.histplot,x=\"Offline_Spend\")"
   ]
  },
  {
   "cell_type": "code",
   "execution_count": null,
   "metadata": {},
   "outputs": [],
   "source": [
    "sns.histplot(categorias2,x='Offline_Spend', hue='Product_Category',multiple=\"stack\")\n",
    "plt.ylabel(\"Contagem\")\n",
    "plt.xlabel(\"Gasto offline\")\n",
    "plt.title(\"Histograma do gasto offline das categorias part.2\")\n",
    "plt.show()"
   ]
  }
 ],
 "metadata": {
  "kernelspec": {
   "display_name": "Python 3",
   "language": "python",
   "name": "python3"
  },
  "language_info": {
   "codemirror_mode": {
    "name": "ipython",
    "version": 3
   },
   "file_extension": ".py",
   "mimetype": "text/x-python",
   "name": "python",
   "nbconvert_exporter": "python",
   "pygments_lexer": "ipython3",
   "version": "3.11.2"
  }
 },
 "nbformat": 4,
 "nbformat_minor": 2
}

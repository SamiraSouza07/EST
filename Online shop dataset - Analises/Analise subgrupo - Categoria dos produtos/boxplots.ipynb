{
 "cells": [
  {
   "cell_type": "markdown",
   "metadata": {},
   "source": [
    "# <center> Boxplots </center>"
   ]
  },
  {
   "cell_type": "markdown",
   "metadata": {},
   "source": [
    "### Importes"
   ]
  },
  {
   "cell_type": "code",
   "execution_count": null,
   "metadata": {},
   "outputs": [],
   "source": [
    "import pandas as pd\n",
    "import seaborn as sns\n",
    "import matplotlib.pyplot as plt \n",
    "import plotly.express as px"
   ]
  },
  {
   "cell_type": "markdown",
   "metadata": {},
   "source": [
    "### Tirando os nullos da base de dados"
   ]
  },
  {
   "cell_type": "code",
   "execution_count": null,
   "metadata": {},
   "outputs": [],
   "source": [
    "shopdataset_comNull = pd.read_excel('./basededados.xlsx')\n",
    "# Removendo os valores null\n",
    "shopdataset = shopdataset_comNull.dropna()\n"
   ]
  },
  {
   "cell_type": "markdown",
   "metadata": {},
   "source": [
    "### Bases"
   ]
  },
  {
   "cell_type": "code",
   "execution_count": null,
   "metadata": {},
   "outputs": [],
   "source": [
    "shopdataset_categorias1 = shopdataset.query(\"Product_Category == 'Nest-USA' or Product_Category == 'Office' or \"+\n",
    "                                            \"Product_Category == 'Apparel' or Product_Category == 'Bags' or \"+\n",
    "                                            \"Product_Category == 'Drinkware' or Product_Category == 'Lifestyle' or \"+\n",
    "                                            \"Product_Category == 'Waze' or Product_Category == 'Headgear'\")\n",
    "\n",
    "shopdataset_categorias2 = shopdataset.query(\"Product_Category == 'Notebooks & Journals' or Product_Category ==        'Nest-Canada' or \"+\n",
    "                                            \"Product_Category == 'Bottles' or Product_Category == 'Gift Cards' or \"+\n",
    "                                            \"Product_Category == 'Housewares' or Product_Category == 'Android' or \"+\n",
    "                                            \"Product_Category == 'Nest' or Product_Category == 'Accessories'\")"
   ]
  },
  {
   "cell_type": "markdown",
   "metadata": {},
   "source": [
    "### Boxplots da média de preço das categorias"
   ]
  },
  {
   "cell_type": "code",
   "execution_count": null,
   "metadata": {},
   "outputs": [],
   "source": [
    "sns.boxplot(shopdataset_categorias1, y='Product_Category',x='Avg_Price', showfliers=True, showmeans= True,flierprops=dict(marker='o', markersize=5, markerfacecolor='#EFA222'),color='#00CCFF')\n",
    "sns.stripplot(shopdataset_categorias1, y='Product_Category',x='Avg_Price', color='#5022A6', alpha=0.2, size=1)\n",
    "plt.ylabel('Categorias')\n",
    "plt.xlabel('Média de preço')\n",
    "plt.title('Boxplot da média de preço das categoria part.1')\n",
    "plt.show()"
   ]
  },
  {
   "cell_type": "code",
   "execution_count": null,
   "metadata": {},
   "outputs": [],
   "source": [
    "sns.boxplot(shopdataset_categorias2, y='Product_Category',x='Avg_Price', showfliers=True, showmeans= True,flierprops=dict(marker='o', markersize=5, markerfacecolor='#EFA222'),color='#00CCFF')\n",
    "sns.stripplot(shopdataset_categorias2, y='Product_Category',x='Avg_Price', color='#5022A6', alpha=0.2, size=1)\n",
    "plt.ylabel('Categorias')\n",
    "plt.xlabel('Média de preço')\n",
    "plt.title('Boxplot da média de preço das categoria part.2')\n",
    "plt.show()"
   ]
  },
  {
   "cell_type": "markdown",
   "metadata": {},
   "source": [
    "### Boxplot do percentual de desconto das categorias"
   ]
  },
  {
   "cell_type": "code",
   "execution_count": null,
   "metadata": {},
   "outputs": [],
   "source": [
    "sns.boxplot(shopdataset_categorias1,x='Discount_pct',y='Product_Category',showfliers=True, showmeans= True,flierprops=dict(marker='o', markersize=5, markerfacecolor='#EFA222'),color='#00CCFF')\n",
    "sns.stripplot(shopdataset_categorias1, y='Product_Category',x='Discount_pct', color='#5022A6', alpha=0.2, size=1)\n",
    "plt.ylabel('Categorias')\n",
    "plt.xlabel('Percentual de desconto')\n",
    "plt.title('Boxplot do percentual de desconto das categorias part.1')\n",
    "plt.show()"
   ]
  },
  {
   "cell_type": "code",
   "execution_count": null,
   "metadata": {},
   "outputs": [],
   "source": [
    "sns.boxplot(shopdataset_categorias2,x='Discount_pct',y='Product_Category',showfliers=True, showmeans= True,flierprops=dict(marker='o', markersize=5, markerfacecolor='#EFA222'),color='#00CCFF')\n",
    "sns.stripplot(shopdataset_categorias2, y='Product_Category',x='Discount_pct', color='#5022A6', alpha=0.2, size=1)\n",
    "plt.ylabel('Categorias')\n",
    "plt.xlabel('Percentual de desconto')\n",
    "plt.title('Boxplot do percentual de desconto das categorias part.2')\n",
    "plt.show()"
   ]
  },
  {
   "cell_type": "markdown",
   "metadata": {},
   "source": [
    "### Boxplot do gasto online das categorias"
   ]
  },
  {
   "cell_type": "code",
   "execution_count": null,
   "metadata": {},
   "outputs": [],
   "source": [
    "sns.boxplot(shopdataset_categorias1,x='Online_Spend',y='Product_Category',showfliers=True, showmeans= True,flierprops=dict(marker='o', markersize=5, markerfacecolor='#EFA222'),color='#00CCFF')\n",
    "sns.stripplot(shopdataset_categorias1, y='Product_Category',x='Online_Spend', color='#5022A6', alpha=0.2, size=1)\n",
    "plt.ylabel('Categorias')\n",
    "plt.xlabel('Gasto online')\n",
    "plt.title('Boxplot do gasto online das categorias part.1')\n",
    "plt.show()"
   ]
  },
  {
   "cell_type": "code",
   "execution_count": null,
   "metadata": {},
   "outputs": [],
   "source": [
    "sns.boxplot(shopdataset_categorias2,x='Online_Spend',y='Product_Category',showfliers=True, showmeans= True,flierprops=dict(marker='o', markersize=5, markerfacecolor='#EFA222'),color='#00CCFF')\n",
    "sns.stripplot(shopdataset_categorias2, y='Product_Category',x='Online_Spend', color='#5022A6', alpha=0.2, size=1)\n",
    "plt.ylabel('Categorias')\n",
    "plt.xlabel('Gasto online')\n",
    "plt.title('Boxplot do gasto online das categorias part.2')\n",
    "plt.show()"
   ]
  },
  {
   "cell_type": "markdown",
   "metadata": {},
   "source": [
    "### Boxplot do gasto offline das categorias"
   ]
  },
  {
   "cell_type": "code",
   "execution_count": null,
   "metadata": {},
   "outputs": [],
   "source": [
    "sns.boxplot(shopdataset_categorias1,x='Offline_Spend',y='Product_Category',showfliers=True, showmeans= True,flierprops=dict(marker='o', markersize=5, markerfacecolor='#EFA222'),color='#00CCFF')\n",
    "sns.stripplot(shopdataset_categorias1, x='Offline_Spend',y='Product_Category', color='#5022A6', alpha=0.2, size=1)\n",
    "plt.ylabel('Categorias')\n",
    "plt.xlabel('Gasto offline')\n",
    "plt.title('Boxplot do gasto offline das categorias part.1')\n",
    "plt.show()"
   ]
  },
  {
   "cell_type": "code",
   "execution_count": null,
   "metadata": {},
   "outputs": [],
   "source": [
    "sns.boxplot(shopdataset_categorias2,x='Offline_Spend',y='Product_Category',showfliers=True, showmeans= True,flierprops=dict(marker='o', markersize=5, markerfacecolor='#EFA222'),color='#00CCFF')\n",
    "sns.stripplot(shopdataset_categorias2, x='Offline_Spend',y='Product_Category', color='#5022A6', alpha=0.2, size=1)\n",
    "plt.ylabel('Categorias')\n",
    "plt.xlabel('Gasto offline')\n",
    "plt.title('Boxplot do gasto offline das categorias part.2')\n",
    "plt.show()"
   ]
  }
 ],
 "metadata": {
  "kernelspec": {
   "display_name": "Python 3",
   "language": "python",
   "name": "python3"
  },
  "language_info": {
   "codemirror_mode": {
    "name": "ipython",
    "version": 3
   },
   "file_extension": ".py",
   "mimetype": "text/x-python",
   "name": "python",
   "nbconvert_exporter": "python",
   "pygments_lexer": "ipython3",
   "version": "3.11.2"
  }
 },
 "nbformat": 4,
 "nbformat_minor": 2
}

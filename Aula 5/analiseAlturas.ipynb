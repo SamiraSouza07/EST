{
 "cells": [
  {
   "cell_type": "markdown",
   "metadata": {},
   "source": [
    "<h1><center>Analise - Alturas</center></h1>"
   ]
  },
  {
   "cell_type": "markdown",
   "metadata": {},
   "source": [
    "### Importações"
   ]
  },
  {
   "cell_type": "code",
   "execution_count": 40,
   "metadata": {},
   "outputs": [],
   "source": [
    "import pandas as pd"
   ]
  },
  {
   "cell_type": "markdown",
   "metadata": {},
   "source": [
    "### Leitura de arquivos"
   ]
  },
  {
   "cell_type": "code",
   "execution_count": 41,
   "metadata": {},
   "outputs": [
    {
     "data": {
      "text/html": [
       "<div>\n",
       "<style scoped>\n",
       "    .dataframe tbody tr th:only-of-type {\n",
       "        vertical-align: middle;\n",
       "    }\n",
       "\n",
       "    .dataframe tbody tr th {\n",
       "        vertical-align: top;\n",
       "    }\n",
       "\n",
       "    .dataframe thead th {\n",
       "        text-align: right;\n",
       "    }\n",
       "</style>\n",
       "<table border=\"1\" class=\"dataframe\">\n",
       "  <thead>\n",
       "    <tr style=\"text-align: right;\">\n",
       "      <th></th>\n",
       "      <th>Nome</th>\n",
       "      <th>Altura</th>\n",
       "    </tr>\n",
       "  </thead>\n",
       "  <tbody>\n",
       "    <tr>\n",
       "      <th>0</th>\n",
       "      <td>Cleiton</td>\n",
       "      <td>166</td>\n",
       "    </tr>\n",
       "    <tr>\n",
       "      <th>1</th>\n",
       "      <td>Vanessa</td>\n",
       "      <td>160</td>\n",
       "    </tr>\n",
       "  </tbody>\n",
       "</table>\n",
       "</div>"
      ],
      "text/plain": [
       "      Nome  Altura\n",
       "0  Cleiton     166\n",
       "1  Vanessa     160"
      ]
     },
     "metadata": {},
     "output_type": "display_data"
    },
    {
     "data": {
      "text/html": [
       "<div>\n",
       "<style scoped>\n",
       "    .dataframe tbody tr th:only-of-type {\n",
       "        vertical-align: middle;\n",
       "    }\n",
       "\n",
       "    .dataframe tbody tr th {\n",
       "        vertical-align: top;\n",
       "    }\n",
       "\n",
       "    .dataframe thead th {\n",
       "        text-align: right;\n",
       "    }\n",
       "</style>\n",
       "<table border=\"1\" class=\"dataframe\">\n",
       "  <thead>\n",
       "    <tr style=\"text-align: right;\">\n",
       "      <th></th>\n",
       "      <th>Nome</th>\n",
       "      <th>Altura</th>\n",
       "    </tr>\n",
       "  </thead>\n",
       "  <tbody>\n",
       "    <tr>\n",
       "      <th>38</th>\n",
       "      <td>Patrícia</td>\n",
       "      <td>158</td>\n",
       "    </tr>\n",
       "    <tr>\n",
       "      <th>39</th>\n",
       "      <td>Lucas</td>\n",
       "      <td>150</td>\n",
       "    </tr>\n",
       "  </tbody>\n",
       "</table>\n",
       "</div>"
      ],
      "text/plain": [
       "        Nome  Altura\n",
       "38  Patrícia     158\n",
       "39     Lucas     150"
      ]
     },
     "metadata": {},
     "output_type": "display_data"
    },
    {
     "data": {
      "text/html": [
       "<div>\n",
       "<style scoped>\n",
       "    .dataframe tbody tr th:only-of-type {\n",
       "        vertical-align: middle;\n",
       "    }\n",
       "\n",
       "    .dataframe tbody tr th {\n",
       "        vertical-align: top;\n",
       "    }\n",
       "\n",
       "    .dataframe thead th {\n",
       "        text-align: right;\n",
       "    }\n",
       "</style>\n",
       "<table border=\"1\" class=\"dataframe\">\n",
       "  <thead>\n",
       "    <tr style=\"text-align: right;\">\n",
       "      <th></th>\n",
       "      <th>Nome</th>\n",
       "      <th>Altura</th>\n",
       "    </tr>\n",
       "  </thead>\n",
       "  <tbody>\n",
       "    <tr>\n",
       "      <th>38</th>\n",
       "      <td>Patrícia</td>\n",
       "      <td>160</td>\n",
       "    </tr>\n",
       "    <tr>\n",
       "      <th>39</th>\n",
       "      <td>Lucas</td>\n",
       "      <td>190</td>\n",
       "    </tr>\n",
       "  </tbody>\n",
       "</table>\n",
       "</div>"
      ],
      "text/plain": [
       "        Nome  Altura\n",
       "38  Patrícia     160\n",
       "39     Lucas     190"
      ]
     },
     "metadata": {},
     "output_type": "display_data"
    }
   ],
   "source": [
    "alturas_A = pd.read_excel(\"alturas.xlsx\")\n",
    "alturas_B = pd.read_excel(\"alturasB.xlsx\")\n",
    "alturas_C = pd.read_excel(\"alturasC.xlsx\")\n",
    "\n",
    "display(alturas_A.head(2))\n",
    "display(alturas_B.tail(2))\n",
    "display(alturas_C.tail(2))"
   ]
  },
  {
   "cell_type": "markdown",
   "metadata": {},
   "source": [
    "### Média"
   ]
  },
  {
   "cell_type": "code",
   "execution_count": 42,
   "metadata": {},
   "outputs": [
    {
     "name": "stdout",
     "output_type": "stream",
     "text": [
      "Média A:  160.85\n",
      "Média B:  158.075\n",
      "Média C:  160.85\n"
     ]
    }
   ],
   "source": [
    "media_A = alturas_A['Altura'].mean()\n",
    "media_B = alturas_B['Altura'].mean()\n",
    "media_C = alturas_C['Altura'].mean()\n",
    "\n",
    "print('Média A: ',media_A)\n",
    "print('Média B: ',media_B)\n",
    "print('Média C: ',media_C)"
   ]
  },
  {
   "cell_type": "markdown",
   "metadata": {},
   "source": [
    "### Amplitude(AT)"
   ]
  },
  {
   "cell_type": "code",
   "execution_count": 43,
   "metadata": {},
   "outputs": [
    {
     "name": "stdout",
     "output_type": "stream",
     "text": [
      "Amplitude A:  23\n",
      "Amplitude B:  23\n",
      "Amplitude C:  40\n"
     ]
    }
   ],
   "source": [
    "amplitude_A = alturas_A['Altura'].max() - alturas_A['Altura'].min()\n",
    "amplitude_B = alturas_B['Altura'].max() - alturas_B['Altura'].min()\n",
    "amplitude_C = alturas_C['Altura'].max() - alturas_C['Altura'].min()\n",
    "\n",
    "print('Amplitude A: ',amplitude_A)\n",
    "print('Amplitude B: ',amplitude_B)\n",
    "print('Amplitude C: ',amplitude_C)"
   ]
  },
  {
   "cell_type": "markdown",
   "metadata": {},
   "source": [
    "### Moda"
   ]
  },
  {
   "cell_type": "code",
   "execution_count": 44,
   "metadata": {},
   "outputs": [
    {
     "name": "stdout",
     "output_type": "stream",
     "text": [
      "Moda A:  160\n",
      "Moda B:  160\n",
      "Moda C:  160\n"
     ]
    }
   ],
   "source": [
    "moda_A = alturas_A['Altura'].mode()\n",
    "moda_B = alturas_B['Altura'].mode()\n",
    "moda_C = alturas_C['Altura'].mode()\n",
    "\n",
    "print('Moda A: ',moda_A[0])\n",
    "print('Moda B: ',moda_B[0])\n",
    "print('Moda C: ',moda_C[0])"
   ]
  },
  {
   "cell_type": "markdown",
   "metadata": {},
   "source": [
    "### Desvio"
   ]
  },
  {
   "cell_type": "code",
   "execution_count": 45,
   "metadata": {},
   "outputs": [
    {
     "name": "stdout",
     "output_type": "stream",
     "text": [
      "DAM A:  4.5575\n",
      "DAM B:  4.52125\n",
      "DAM C:  5.732499999999997\n"
     ]
    }
   ],
   "source": [
    "alturas_A['Desvio_Absoluto'] = abs(media_A - alturas_A['Altura'])\n",
    "dam_A = alturas_A['Desvio_Absoluto'].mean()\n",
    "\n",
    "alturas_B['Desvio_Absoluto'] = abs(media_B - alturas_B['Altura'])\n",
    "dam_B = alturas_B['Desvio_Absoluto'].mean()\n",
    "\n",
    "alturas_C['Desvio_Absoluto'] = abs(media_C - alturas_C['Altura'])\n",
    "dam_C = alturas_C['Desvio_Absoluto'].mean()\n",
    "\n",
    "print('DAM A: ',dam_A)\n",
    "print('DAM B: ',dam_B)\n",
    "print('DAM C: ',dam_C)"
   ]
  },
  {
   "cell_type": "markdown",
   "metadata": {},
   "source": [
    "### Relário"
   ]
  },
  {
   "cell_type": "code",
   "execution_count": 48,
   "metadata": {},
   "outputs": [
    {
     "data": {
      "text/html": [
       "<div>\n",
       "<style scoped>\n",
       "    .dataframe tbody tr th:only-of-type {\n",
       "        vertical-align: middle;\n",
       "    }\n",
       "\n",
       "    .dataframe tbody tr th {\n",
       "        vertical-align: top;\n",
       "    }\n",
       "\n",
       "    .dataframe thead th {\n",
       "        text-align: right;\n",
       "    }\n",
       "</style>\n",
       "<table border=\"1\" class=\"dataframe\">\n",
       "  <thead>\n",
       "    <tr style=\"text-align: right;\">\n",
       "      <th></th>\n",
       "      <th>Turma</th>\n",
       "      <th>Média</th>\n",
       "      <th>Amplitude</th>\n",
       "      <th>Moda</th>\n",
       "      <th>DAM</th>\n",
       "    </tr>\n",
       "  </thead>\n",
       "  <tbody>\n",
       "    <tr>\n",
       "      <th>0</th>\n",
       "      <td>Turma_A</td>\n",
       "      <td>160.850</td>\n",
       "      <td>23</td>\n",
       "      <td>160</td>\n",
       "      <td>4.56000</td>\n",
       "    </tr>\n",
       "    <tr>\n",
       "      <th>1</th>\n",
       "      <td>Turma_B</td>\n",
       "      <td>158.075</td>\n",
       "      <td>23</td>\n",
       "      <td>160</td>\n",
       "      <td>4.52125</td>\n",
       "    </tr>\n",
       "    <tr>\n",
       "      <th>2</th>\n",
       "      <td>Turma_C</td>\n",
       "      <td>160.850</td>\n",
       "      <td>40</td>\n",
       "      <td>160</td>\n",
       "      <td>5.73250</td>\n",
       "    </tr>\n",
       "  </tbody>\n",
       "</table>\n",
       "</div>"
      ],
      "text/plain": [
       "     Turma    Média  Amplitude  Moda      DAM\n",
       "0  Turma_A  160.850         23   160  4.56000\n",
       "1  Turma_B  158.075         23   160  4.52125\n",
       "2  Turma_C  160.850         40   160  5.73250"
      ]
     },
     "metadata": {},
     "output_type": "display_data"
    }
   ],
   "source": [
    "df_relatorio = pd.DataFrame({'Turma':['Turma_A','Turma_B','Turma_C'],'Média':[media_A,media_B,media_C],'Amplitude':[amplitude_A,amplitude_B,amplitude_C],'Moda':[moda_A[0],moda_B[0],moda_C[0]],'DAM':[dam_A,dam_B,dam_C]})\n",
    "\n",
    "\n",
    "display(df_relatorio)"
   ]
  }
 ],
 "metadata": {
  "kernelspec": {
   "display_name": "Python 3",
   "language": "python",
   "name": "python3"
  },
  "language_info": {
   "codemirror_mode": {
    "name": "ipython",
    "version": 3
   },
   "file_extension": ".py",
   "mimetype": "text/x-python",
   "name": "python",
   "nbconvert_exporter": "python",
   "pygments_lexer": "ipython3",
   "version": "3.11.2"
  }
 },
 "nbformat": 4,
 "nbformat_minor": 2
}
